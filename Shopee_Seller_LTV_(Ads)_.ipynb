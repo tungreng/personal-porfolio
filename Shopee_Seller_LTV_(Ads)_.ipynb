{
  "cells": [
    {
      "cell_type": "markdown",
      "metadata": {
        "id": "view-in-github",
        "colab_type": "text"
      },
      "source": [
        "<a href=\"https://colab.research.google.com/github/tungreng/personal-porfolio/blob/main/Shopee_Seller_LTV_(Ads)_.ipynb\" target=\"_parent\"><img src=\"https://colab.research.google.com/assets/colab-badge.svg\" alt=\"Open In Colab\"/></a>"
      ]
    },
    {
      "cell_type": "markdown",
      "metadata": {
        "id": "QkPTtu1pVs14"
      },
      "source": [
        "Creator: Nga Vu <br>\n",
        "Check out my course at: https://200lab.io/khoa-hoc-data-analyst-co-ban-sql-google-data-studio <br>\n",
        "Challenge trên Kaggle - <b>Seller LTV (Ads)</b>: https://www.kaggle.com/competitions/shopee-case-study-seller-ltv-ads <br>\n",
        "Download data : https://www.kaggle.com/c/shopee-case-study-seller-ltv-ads-jan21\n",
        "Đầu tiên bạn phải tham gia vào Challenge này mới có quyền Download dataset nhé  \n",
        "## Background\n",
        "Quảng cáo trả phí (Paid Advertising) là một nguồn thu chính của Shopee. Do đó, điều quan trọng là phải xác định các nhóm Seller quan trọng, cho phép chúng tôi cải thiện mức độ tương tác của người bán trong việc phát triển, giữ chân và thu hút được những Seller này.\n",
        "# Model Output  \n",
        "Vì chúng tôi muốn biết chi tiêu quảng cáo hàng tháng của mỗi người bán trong 3 tháng tới, mô hình nên bao gồm ba nhãn Y được dự đoán, một nhãn cho mỗi tháng tiếp theo (FXM). Ví dụ: nếu ngày hiện tại là ngày 1 tháng 8 năm 2020, các nhãn Y được dự đoán như sau:\n",
        "\n",
        "Nhãn Y F1M: Chi tiêu quảng cáo dự đoán cho tháng 8 năm 2020\n",
        "Nhãn Y F2M: Dự đoán chi tiêu cho quảng cáo trong tháng 9 năm 2020\n",
        "Nhãn Y F3M: Chi tiêu quảng cáo dự đoán cho tháng 10 năm 2020\n",
        "## Data Definition\n",
        "### Settings\n",
        "Tập dữ liệu train và test trong nghiên cứu này được đặt tên lần lượt là xx và yy. Những dữ liệu này được trích xuất dựa trên các setting được mô tả trong biểu đồ này.\n",
        "<img width=\"1000\" src=\"https://www.googleapis.com/download/storage/v1/b/kaggle-user-content/o/inbox%2F5897968%2F699d504caa33db1cd099358881284d49%2Fregression%20settings.jpg?generation=1602577603351979&alt=media\">\n",
        "\n",
        "## Features\n",
        "Có 525 cột trong tập dữ liệu:\n",
        "\n",
        "- `shop_id`: Đây là số định danh duy nhất cho mỗi người bán\n",
        "- `shopprofilex`: Có 27 features liên quan đến hồ sơ cửa hàng. Ví dụ các feature về loại cửa hàng (tức là xuyên biên giới, chính thức, ưu tiên), danh mục mặt hàng chính, xếp hạng, người theo dõi, ngày đăng ký.\n",
        "- `shopbehaviorx`: Có 51 feature liên quan đến hành vi của cửa hàng. Ví dụ các feature về loại hình khuyến mãi được sử dụng (giảm giá trên sản phẩm, voucher), số lần đăng nhập, số lượng sản phẩm. Các feature này được trích xuất trong các khoảng thời gian khác nhau (Ví dụ 1 tuần trước, 1 tháng trước).\n",
        "- `shopperformancex`: Có 73 feature liên quan đến hiệu suất của cửa hàng. Ví dụ số lượng đơn đặt hàng, tổng giá trị hàng hóa (GMV), số lần hiển thị sản phẩm, số lần nhấp vào sản phẩm và lượt xem sản phẩm. Các feature này được trích xuất trong các khoảng thời gian khác nhau.\n",
        "- `organicperformancex`: Có 24 feature liên quan đến hiệu suất thuần (organic). Organic performance- còn được gọi là hiệu suất không được quảng cáo (non-advertised performance). Ví dụ về các feature này tương tự như các feature trong shopperformancex.\n",
        "- `adsperformancex`: Có 171 tính năng liên quan đến hiệu suất quảng cáo. Hiệu suất quảng cáo là hiệu suất của cửa hàng - kết quả của quảng cáo có trả tiền. Ví dụ về các feature này tương tự như các feature của shopperformancex.\n",
        "- `adsbehaviorx`: Có 60 feature liên quan đến hành vi quảng cáo. Ví dụ như số lượng quảng cáo đang hoạt động, số lần chỉnh sửa (tức là điều chỉnh từ khóa, giá thầu (bid price)) và ngày tạo tài khoản quảng cáo. Một số features này được trích xuất trong các khoảng thời gian khác nhau.\n",
        "- `adstopupx`: Có 115 feature liên quan đến topup quảng cáo. Ví dụ như phương thức nạp tiền, số tiền nạp tiền, ngày nạp tiền lần cuối và số dư tín dụng còn lại.\n",
        "- `adsexpensefuture_1m`: Giá trị Y thực tế cho tháng chuyển tiếp đầu tiên\n",
        "- `adsexpensefuture_2m`: Giá trị Y thực tế cho tháng thứ hai trở đi\n",
        "- `adsexpensefuture_3m`: Giá trị Y thực tế cho tháng thứ ba trở đi\n"
      ]
    },
    {
      "cell_type": "code",
      "execution_count": null,
      "metadata": {
        "colab": {
          "base_uri": "https://localhost:8080/"
        },
        "id": "K7tuppp5exow",
        "outputId": "cdc7e5b2-326c-42eb-92a9-091d63b6a2e6"
      },
      "outputs": [
        {
          "output_type": "stream",
          "name": "stdout",
          "text": [
            "Mounted at /content/drive\n"
          ]
        }
      ],
      "source": [
        "from google.colab import drive\n",
        "drive.mount('/content/drive',force_remount=True)"
      ]
    },
    {
      "cell_type": "code",
      "execution_count": null,
      "metadata": {
        "id": "NdJT6xJxkwtD"
      },
      "outputs": [],
      "source": [
        "# Import thư viện\n",
        "import numpy as np\n",
        "import pandas as pd\n",
        "from tqdm import tqdm\n",
        "pd.set_option('display.max_colwidth', None)\n",
        "from sklearn.model_selection import train_test_split"
      ]
    },
    {
      "cell_type": "code",
      "execution_count": null,
      "metadata": {
        "colab": {
          "base_uri": "https://localhost:8080/",
          "height": 508
        },
        "id": "X0mHOH7ef-z1",
        "outputId": "41582841-bdb9-4798-949c-fc4f34d42904"
      },
      "outputs": [
        {
          "output_type": "stream",
          "name": "stderr",
          "text": [
            "/usr/local/lib/python3.8/dist-packages/IPython/core/interactiveshell.py:3326: DtypeWarning: Columns (6,415) have mixed types.Specify dtype option on import or set low_memory=False.\n",
            "  exec(code_obj, self.user_global_ns, self.user_ns)\n"
          ]
        },
        {
          "output_type": "stream",
          "name": "stdout",
          "text": [
            "Train shape: (180767, 525)\n"
          ]
        },
        {
          "output_type": "execute_result",
          "data": {
            "text/plain": [
              "   shop_id  shop_profile_1  shop_profile_2  shop_profile_3  shop_profile_4  \\\n",
              "0        0            1717           342.0       544177.10               0   \n",
              "1        1            1717            43.0       129335.57               0   \n",
              "2        2            1717             6.0       105615.56               0   \n",
              "3        3            1717             0.0       366974.78               0   \n",
              "4        4            1717            16.0       328581.68               0   \n",
              "5        5            1717             0.0       326417.37               0   \n",
              "6        6            1717            45.0       175213.11               0   \n",
              "7        7            1717             0.0       150039.63               0   \n",
              "8        8            1717           202.0       112027.75               0   \n",
              "9        9            1717             0.0       135697.80               0   \n",
              "\n",
              "   shop_profile_5 shop_profile_6 shop_profile_7 shop_profile_8  \\\n",
              "0        0.997959            1.0              Y            2.0   \n",
              "1        0.917606            1.0              Y            2.0   \n",
              "2        0.508388            1.0              Y            2.0   \n",
              "3        0.383161            0.0              N            2.0   \n",
              "4        0.497274            0.0              Y            2.0   \n",
              "5        0.122905            1.0              N            2.0   \n",
              "6        0.792880            1.0              Y            2.0   \n",
              "7        0.413713            0.0              N            2.0   \n",
              "8        0.999054            1.0              Y            2.0   \n",
              "9        0.638074            0.0              Y            2.0   \n",
              "\n",
              "   shop_profile_9  ...  ads_topup_109  ads_topup_110  ads_topup_111  \\\n",
              "0               0  ...      -4.788862            3.0      35.436387   \n",
              "1               0  ...       0.000000           10.0       0.000000   \n",
              "2               0  ...       0.000000            0.0       0.000000   \n",
              "3               0  ...       0.000000            5.0       0.000000   \n",
              "4               0  ...       0.000000            1.0       3.543639   \n",
              "5               0  ...       0.000000            0.0       0.000000   \n",
              "6               0  ...       0.000000           12.0       0.000000   \n",
              "7               0  ...       0.000000            1.0       3.543639   \n",
              "8               0  ...      -2.394431            2.0     248.054711   \n",
              "9               0  ...       0.000000           16.0       0.000000   \n",
              "\n",
              "   ads_topup_112  ads_topup_113  ads_topup_114 ads_topup_115  \\\n",
              "0       0.000000             71    2426.279037     43.099759   \n",
              "1       0.000000              9      70.629380     14.366586   \n",
              "2       0.000000              2      21.411167      0.000000   \n",
              "3       0.000000              1       6.947319      0.000000   \n",
              "4       0.000000              5      17.690951      0.000000   \n",
              "5       0.000000              0       0.000000      0.000000   \n",
              "6       0.000000              2      10.705584      7.183293   \n",
              "7       0.000000              2      10.572645      0.000000   \n",
              "8     851.428818            198    6974.535839    280.148431   \n",
              "9       0.000000              8     100.924308      0.000000   \n",
              "\n",
              "   ads_expense_1m_future  ads_expense_2m_future  ads_expense_3m_future  \n",
              "0             575.850954             838.687882             524.638741  \n",
              "1               0.000000               0.000000              42.289979  \n",
              "2               0.000000               0.000000               5.781112  \n",
              "3               0.000000               0.000000               0.000000  \n",
              "4               1.811587               0.000000               0.000000  \n",
              "5               0.000000               0.000000               0.000000  \n",
              "6               7.785920               1.168767               0.000000  \n",
              "7               0.000000               0.000000               0.000000  \n",
              "8             759.155228             497.910951             512.434386  \n",
              "9               0.000000               0.000000               0.000000  \n",
              "\n",
              "[10 rows x 525 columns]"
            ],
            "text/html": [
              "\n",
              "  <div id=\"df-7696f938-3fa5-4997-95c4-6e5db5a0a0b3\">\n",
              "    <div class=\"colab-df-container\">\n",
              "      <div>\n",
              "<style scoped>\n",
              "    .dataframe tbody tr th:only-of-type {\n",
              "        vertical-align: middle;\n",
              "    }\n",
              "\n",
              "    .dataframe tbody tr th {\n",
              "        vertical-align: top;\n",
              "    }\n",
              "\n",
              "    .dataframe thead th {\n",
              "        text-align: right;\n",
              "    }\n",
              "</style>\n",
              "<table border=\"1\" class=\"dataframe\">\n",
              "  <thead>\n",
              "    <tr style=\"text-align: right;\">\n",
              "      <th></th>\n",
              "      <th>shop_id</th>\n",
              "      <th>shop_profile_1</th>\n",
              "      <th>shop_profile_2</th>\n",
              "      <th>shop_profile_3</th>\n",
              "      <th>shop_profile_4</th>\n",
              "      <th>shop_profile_5</th>\n",
              "      <th>shop_profile_6</th>\n",
              "      <th>shop_profile_7</th>\n",
              "      <th>shop_profile_8</th>\n",
              "      <th>shop_profile_9</th>\n",
              "      <th>...</th>\n",
              "      <th>ads_topup_109</th>\n",
              "      <th>ads_topup_110</th>\n",
              "      <th>ads_topup_111</th>\n",
              "      <th>ads_topup_112</th>\n",
              "      <th>ads_topup_113</th>\n",
              "      <th>ads_topup_114</th>\n",
              "      <th>ads_topup_115</th>\n",
              "      <th>ads_expense_1m_future</th>\n",
              "      <th>ads_expense_2m_future</th>\n",
              "      <th>ads_expense_3m_future</th>\n",
              "    </tr>\n",
              "  </thead>\n",
              "  <tbody>\n",
              "    <tr>\n",
              "      <th>0</th>\n",
              "      <td>0</td>\n",
              "      <td>1717</td>\n",
              "      <td>342.0</td>\n",
              "      <td>544177.10</td>\n",
              "      <td>0</td>\n",
              "      <td>0.997959</td>\n",
              "      <td>1.0</td>\n",
              "      <td>Y</td>\n",
              "      <td>2.0</td>\n",
              "      <td>0</td>\n",
              "      <td>...</td>\n",
              "      <td>-4.788862</td>\n",
              "      <td>3.0</td>\n",
              "      <td>35.436387</td>\n",
              "      <td>0.000000</td>\n",
              "      <td>71</td>\n",
              "      <td>2426.279037</td>\n",
              "      <td>43.099759</td>\n",
              "      <td>575.850954</td>\n",
              "      <td>838.687882</td>\n",
              "      <td>524.638741</td>\n",
              "    </tr>\n",
              "    <tr>\n",
              "      <th>1</th>\n",
              "      <td>1</td>\n",
              "      <td>1717</td>\n",
              "      <td>43.0</td>\n",
              "      <td>129335.57</td>\n",
              "      <td>0</td>\n",
              "      <td>0.917606</td>\n",
              "      <td>1.0</td>\n",
              "      <td>Y</td>\n",
              "      <td>2.0</td>\n",
              "      <td>0</td>\n",
              "      <td>...</td>\n",
              "      <td>0.000000</td>\n",
              "      <td>10.0</td>\n",
              "      <td>0.000000</td>\n",
              "      <td>0.000000</td>\n",
              "      <td>9</td>\n",
              "      <td>70.629380</td>\n",
              "      <td>14.366586</td>\n",
              "      <td>0.000000</td>\n",
              "      <td>0.000000</td>\n",
              "      <td>42.289979</td>\n",
              "    </tr>\n",
              "    <tr>\n",
              "      <th>2</th>\n",
              "      <td>2</td>\n",
              "      <td>1717</td>\n",
              "      <td>6.0</td>\n",
              "      <td>105615.56</td>\n",
              "      <td>0</td>\n",
              "      <td>0.508388</td>\n",
              "      <td>1.0</td>\n",
              "      <td>Y</td>\n",
              "      <td>2.0</td>\n",
              "      <td>0</td>\n",
              "      <td>...</td>\n",
              "      <td>0.000000</td>\n",
              "      <td>0.0</td>\n",
              "      <td>0.000000</td>\n",
              "      <td>0.000000</td>\n",
              "      <td>2</td>\n",
              "      <td>21.411167</td>\n",
              "      <td>0.000000</td>\n",
              "      <td>0.000000</td>\n",
              "      <td>0.000000</td>\n",
              "      <td>5.781112</td>\n",
              "    </tr>\n",
              "    <tr>\n",
              "      <th>3</th>\n",
              "      <td>3</td>\n",
              "      <td>1717</td>\n",
              "      <td>0.0</td>\n",
              "      <td>366974.78</td>\n",
              "      <td>0</td>\n",
              "      <td>0.383161</td>\n",
              "      <td>0.0</td>\n",
              "      <td>N</td>\n",
              "      <td>2.0</td>\n",
              "      <td>0</td>\n",
              "      <td>...</td>\n",
              "      <td>0.000000</td>\n",
              "      <td>5.0</td>\n",
              "      <td>0.000000</td>\n",
              "      <td>0.000000</td>\n",
              "      <td>1</td>\n",
              "      <td>6.947319</td>\n",
              "      <td>0.000000</td>\n",
              "      <td>0.000000</td>\n",
              "      <td>0.000000</td>\n",
              "      <td>0.000000</td>\n",
              "    </tr>\n",
              "    <tr>\n",
              "      <th>4</th>\n",
              "      <td>4</td>\n",
              "      <td>1717</td>\n",
              "      <td>16.0</td>\n",
              "      <td>328581.68</td>\n",
              "      <td>0</td>\n",
              "      <td>0.497274</td>\n",
              "      <td>0.0</td>\n",
              "      <td>Y</td>\n",
              "      <td>2.0</td>\n",
              "      <td>0</td>\n",
              "      <td>...</td>\n",
              "      <td>0.000000</td>\n",
              "      <td>1.0</td>\n",
              "      <td>3.543639</td>\n",
              "      <td>0.000000</td>\n",
              "      <td>5</td>\n",
              "      <td>17.690951</td>\n",
              "      <td>0.000000</td>\n",
              "      <td>1.811587</td>\n",
              "      <td>0.000000</td>\n",
              "      <td>0.000000</td>\n",
              "    </tr>\n",
              "    <tr>\n",
              "      <th>5</th>\n",
              "      <td>5</td>\n",
              "      <td>1717</td>\n",
              "      <td>0.0</td>\n",
              "      <td>326417.37</td>\n",
              "      <td>0</td>\n",
              "      <td>0.122905</td>\n",
              "      <td>1.0</td>\n",
              "      <td>N</td>\n",
              "      <td>2.0</td>\n",
              "      <td>0</td>\n",
              "      <td>...</td>\n",
              "      <td>0.000000</td>\n",
              "      <td>0.0</td>\n",
              "      <td>0.000000</td>\n",
              "      <td>0.000000</td>\n",
              "      <td>0</td>\n",
              "      <td>0.000000</td>\n",
              "      <td>0.000000</td>\n",
              "      <td>0.000000</td>\n",
              "      <td>0.000000</td>\n",
              "      <td>0.000000</td>\n",
              "    </tr>\n",
              "    <tr>\n",
              "      <th>6</th>\n",
              "      <td>6</td>\n",
              "      <td>1717</td>\n",
              "      <td>45.0</td>\n",
              "      <td>175213.11</td>\n",
              "      <td>0</td>\n",
              "      <td>0.792880</td>\n",
              "      <td>1.0</td>\n",
              "      <td>Y</td>\n",
              "      <td>2.0</td>\n",
              "      <td>0</td>\n",
              "      <td>...</td>\n",
              "      <td>0.000000</td>\n",
              "      <td>12.0</td>\n",
              "      <td>0.000000</td>\n",
              "      <td>0.000000</td>\n",
              "      <td>2</td>\n",
              "      <td>10.705584</td>\n",
              "      <td>7.183293</td>\n",
              "      <td>7.785920</td>\n",
              "      <td>1.168767</td>\n",
              "      <td>0.000000</td>\n",
              "    </tr>\n",
              "    <tr>\n",
              "      <th>7</th>\n",
              "      <td>7</td>\n",
              "      <td>1717</td>\n",
              "      <td>0.0</td>\n",
              "      <td>150039.63</td>\n",
              "      <td>0</td>\n",
              "      <td>0.413713</td>\n",
              "      <td>0.0</td>\n",
              "      <td>N</td>\n",
              "      <td>2.0</td>\n",
              "      <td>0</td>\n",
              "      <td>...</td>\n",
              "      <td>0.000000</td>\n",
              "      <td>1.0</td>\n",
              "      <td>3.543639</td>\n",
              "      <td>0.000000</td>\n",
              "      <td>2</td>\n",
              "      <td>10.572645</td>\n",
              "      <td>0.000000</td>\n",
              "      <td>0.000000</td>\n",
              "      <td>0.000000</td>\n",
              "      <td>0.000000</td>\n",
              "    </tr>\n",
              "    <tr>\n",
              "      <th>8</th>\n",
              "      <td>8</td>\n",
              "      <td>1717</td>\n",
              "      <td>202.0</td>\n",
              "      <td>112027.75</td>\n",
              "      <td>0</td>\n",
              "      <td>0.999054</td>\n",
              "      <td>1.0</td>\n",
              "      <td>Y</td>\n",
              "      <td>2.0</td>\n",
              "      <td>0</td>\n",
              "      <td>...</td>\n",
              "      <td>-2.394431</td>\n",
              "      <td>2.0</td>\n",
              "      <td>248.054711</td>\n",
              "      <td>851.428818</td>\n",
              "      <td>198</td>\n",
              "      <td>6974.535839</td>\n",
              "      <td>280.148431</td>\n",
              "      <td>759.155228</td>\n",
              "      <td>497.910951</td>\n",
              "      <td>512.434386</td>\n",
              "    </tr>\n",
              "    <tr>\n",
              "      <th>9</th>\n",
              "      <td>9</td>\n",
              "      <td>1717</td>\n",
              "      <td>0.0</td>\n",
              "      <td>135697.80</td>\n",
              "      <td>0</td>\n",
              "      <td>0.638074</td>\n",
              "      <td>0.0</td>\n",
              "      <td>Y</td>\n",
              "      <td>2.0</td>\n",
              "      <td>0</td>\n",
              "      <td>...</td>\n",
              "      <td>0.000000</td>\n",
              "      <td>16.0</td>\n",
              "      <td>0.000000</td>\n",
              "      <td>0.000000</td>\n",
              "      <td>8</td>\n",
              "      <td>100.924308</td>\n",
              "      <td>0.000000</td>\n",
              "      <td>0.000000</td>\n",
              "      <td>0.000000</td>\n",
              "      <td>0.000000</td>\n",
              "    </tr>\n",
              "  </tbody>\n",
              "</table>\n",
              "<p>10 rows × 525 columns</p>\n",
              "</div>\n",
              "      <button class=\"colab-df-convert\" onclick=\"convertToInteractive('df-7696f938-3fa5-4997-95c4-6e5db5a0a0b3')\"\n",
              "              title=\"Convert this dataframe to an interactive table.\"\n",
              "              style=\"display:none;\">\n",
              "        \n",
              "  <svg xmlns=\"http://www.w3.org/2000/svg\" height=\"24px\"viewBox=\"0 0 24 24\"\n",
              "       width=\"24px\">\n",
              "    <path d=\"M0 0h24v24H0V0z\" fill=\"none\"/>\n",
              "    <path d=\"M18.56 5.44l.94 2.06.94-2.06 2.06-.94-2.06-.94-.94-2.06-.94 2.06-2.06.94zm-11 1L8.5 8.5l.94-2.06 2.06-.94-2.06-.94L8.5 2.5l-.94 2.06-2.06.94zm10 10l.94 2.06.94-2.06 2.06-.94-2.06-.94-.94-2.06-.94 2.06-2.06.94z\"/><path d=\"M17.41 7.96l-1.37-1.37c-.4-.4-.92-.59-1.43-.59-.52 0-1.04.2-1.43.59L10.3 9.45l-7.72 7.72c-.78.78-.78 2.05 0 2.83L4 21.41c.39.39.9.59 1.41.59.51 0 1.02-.2 1.41-.59l7.78-7.78 2.81-2.81c.8-.78.8-2.07 0-2.86zM5.41 20L4 18.59l7.72-7.72 1.47 1.35L5.41 20z\"/>\n",
              "  </svg>\n",
              "      </button>\n",
              "      \n",
              "  <style>\n",
              "    .colab-df-container {\n",
              "      display:flex;\n",
              "      flex-wrap:wrap;\n",
              "      gap: 12px;\n",
              "    }\n",
              "\n",
              "    .colab-df-convert {\n",
              "      background-color: #E8F0FE;\n",
              "      border: none;\n",
              "      border-radius: 50%;\n",
              "      cursor: pointer;\n",
              "      display: none;\n",
              "      fill: #1967D2;\n",
              "      height: 32px;\n",
              "      padding: 0 0 0 0;\n",
              "      width: 32px;\n",
              "    }\n",
              "\n",
              "    .colab-df-convert:hover {\n",
              "      background-color: #E2EBFA;\n",
              "      box-shadow: 0px 1px 2px rgba(60, 64, 67, 0.3), 0px 1px 3px 1px rgba(60, 64, 67, 0.15);\n",
              "      fill: #174EA6;\n",
              "    }\n",
              "\n",
              "    [theme=dark] .colab-df-convert {\n",
              "      background-color: #3B4455;\n",
              "      fill: #D2E3FC;\n",
              "    }\n",
              "\n",
              "    [theme=dark] .colab-df-convert:hover {\n",
              "      background-color: #434B5C;\n",
              "      box-shadow: 0px 1px 3px 1px rgba(0, 0, 0, 0.15);\n",
              "      filter: drop-shadow(0px 1px 2px rgba(0, 0, 0, 0.3));\n",
              "      fill: #FFFFFF;\n",
              "    }\n",
              "  </style>\n",
              "\n",
              "      <script>\n",
              "        const buttonEl =\n",
              "          document.querySelector('#df-7696f938-3fa5-4997-95c4-6e5db5a0a0b3 button.colab-df-convert');\n",
              "        buttonEl.style.display =\n",
              "          google.colab.kernel.accessAllowed ? 'block' : 'none';\n",
              "\n",
              "        async function convertToInteractive(key) {\n",
              "          const element = document.querySelector('#df-7696f938-3fa5-4997-95c4-6e5db5a0a0b3');\n",
              "          const dataTable =\n",
              "            await google.colab.kernel.invokeFunction('convertToInteractive',\n",
              "                                                     [key], {});\n",
              "          if (!dataTable) return;\n",
              "\n",
              "          const docLinkHtml = 'Like what you see? Visit the ' +\n",
              "            '<a target=\"_blank\" href=https://colab.research.google.com/notebooks/data_table.ipynb>data table notebook</a>'\n",
              "            + ' to learn more about interactive tables.';\n",
              "          element.innerHTML = '';\n",
              "          dataTable['output_type'] = 'display_data';\n",
              "          await google.colab.output.renderOutput(dataTable, element);\n",
              "          const docLink = document.createElement('div');\n",
              "          docLink.innerHTML = docLinkHtml;\n",
              "          element.appendChild(docLink);\n",
              "        }\n",
              "      </script>\n",
              "    </div>\n",
              "  </div>\n",
              "  "
            ]
          },
          "metadata": {},
          "execution_count": 15
        }
      ],
      "source": [
        "# Upload data to your Google Drive and change the path\n",
        "train = pd.read_csv('/content/drive/MyDrive/Data/shopee-case-study-seller-ltv/201014_train_set.csv')\n",
        "print(f\"Train shape: {train.shape}\")\n",
        "train.head(10)"
      ]
    },
    {
      "cell_type": "markdown",
      "metadata": {
        "id": "TgEE_TVSQ0og"
      },
      "source": [
        "## Feature Engineering"
      ]
    },
    {
      "cell_type": "code",
      "source": [
        "# remove columns with only one unique  value and shop_id\n",
        "drops = []\n",
        "for col in list(train.columns):\n",
        "  if len(train[col].value_counts())==1:\n",
        "    drops.append(col)\n",
        "train.drop(drops+['shop_id'],axis=1,inplace=True)"
      ],
      "metadata": {
        "id": "z34jJIu8h-Gw"
      },
      "execution_count": null,
      "outputs": []
    },
    {
      "cell_type": "code",
      "execution_count": null,
      "metadata": {
        "colab": {
          "base_uri": "https://localhost:8080/"
        },
        "id": "cZq9srx8RYFw",
        "outputId": "944bc626-4f0b-4ca7-fb21-6986898c6440"
      },
      "outputs": [
        {
          "output_type": "execute_result",
          "data": {
            "text/plain": [
              "float64    449\n",
              "int64       45\n",
              "object       6\n",
              "dtype: int64"
            ]
          },
          "metadata": {},
          "execution_count": 17
        }
      ],
      "source": [
        "# Count columns by data type\n",
        "train.dtypes.value_counts()"
      ]
    },
    {
      "cell_type": "code",
      "execution_count": null,
      "metadata": {
        "colab": {
          "base_uri": "https://localhost:8080/"
        },
        "id": "m0mCVqyYGN8t",
        "outputId": "0a629e29-dcec-4ab8-9b1d-c142992fe099"
      },
      "outputs": [
        {
          "output_type": "stream",
          "name": "stdout",
          "text": [
            "494\n"
          ]
        }
      ],
      "source": [
        "numeric_types = ['float64','int64']\n",
        "numeric_cols = train.select_dtypes(numeric_types).columns.tolist()\n",
        "print(len(numeric_cols))"
      ]
    },
    {
      "cell_type": "code",
      "execution_count": null,
      "metadata": {
        "colab": {
          "base_uri": "https://localhost:8080/"
        },
        "id": "2ZPRXNPaPwUS",
        "outputId": "4b7d6776-fab5-4930-9af9-c10367c90a59"
      },
      "outputs": [
        {
          "output_type": "stream",
          "name": "stdout",
          "text": [
            "6\n"
          ]
        },
        {
          "output_type": "execute_result",
          "data": {
            "text/plain": [
              "['shop_profile_6',\n",
              " 'shop_profile_7',\n",
              " 'shop_profile_8',\n",
              " 'shop_profile_16',\n",
              " 'shop_profile_27',\n",
              " 'ads_topup_9']"
            ]
          },
          "metadata": {},
          "execution_count": 19
        }
      ],
      "source": [
        "categorical_types = ['object','bool']\n",
        "categorical_cols = train.select_dtypes(categorical_types).columns.tolist()\n",
        "print(len(categorical_cols))\n",
        "categorical_cols"
      ]
    },
    {
      "cell_type": "markdown",
      "metadata": {
        "id": "oQEitO7URFTY"
      },
      "source": [
        "### Convert to Right Data Type"
      ]
    },
    {
      "cell_type": "code",
      "source": [
        "# Check null columns\n",
        "train.columns[train.isnull().sum()>=1]"
      ],
      "metadata": {
        "colab": {
          "base_uri": "https://localhost:8080/"
        },
        "id": "6N7--97yVFfg",
        "outputId": "53538fe3-e52b-45c7-fcc0-d0b10df85e0d"
      },
      "execution_count": null,
      "outputs": [
        {
          "output_type": "execute_result",
          "data": {
            "text/plain": [
              "Index(['shop_profile_13', 'shop_profile_23', 'shop_profile_25',\n",
              "       'ads_behavior_39', 'ads_topup_3', 'ads_topup_8', 'ads_topup_21',\n",
              "       'ads_topup_22', 'ads_topup_26', 'ads_topup_36', 'ads_topup_45',\n",
              "       'ads_topup_52', 'ads_topup_64', 'ads_topup_72', 'ads_topup_85',\n",
              "       'ads_topup_89', 'ads_topup_90', 'ads_topup_94', 'ads_topup_96',\n",
              "       'ads_topup_104', 'ads_topup_110'],\n",
              "      dtype='object')"
            ]
          },
          "metadata": {},
          "execution_count": 8
        }
      ]
    },
    {
      "cell_type": "code",
      "execution_count": null,
      "metadata": {
        "id": "L-N7f6Z0QrLw"
      },
      "outputs": [],
      "source": [
        "# deal with float\n",
        "for col in numeric_cols:\n",
        "  if train[col].dtype == 'float64':\n",
        "    train[col] = train[col].astype(np.float64,errors='raise')\n"
      ]
    },
    {
      "cell_type": "code",
      "execution_count": null,
      "metadata": {
        "id": "2ivObe6HTXpv"
      },
      "outputs": [],
      "source": [
        "# deal with int\n",
        "for col in numeric_cols:\n",
        "  if train[col].dtype == 'int64':\n",
        "    train[col] = train[col].astype(np.int64,errors='raise')"
      ]
    },
    {
      "cell_type": "code",
      "source": [
        "train['ads_topup_9']=train['ads_topup_9'].apply(lambda x: str(x).strip())=='1.0'\n",
        "train['shop_profile_6']=train['shop_profile_6'].apply(lambda x: str(x).strip())=='1.0'\n",
        "train['shop_profile_7'] = train['shop_profile_7']=='Y'\n",
        "train['shop_profile_16'] = train['shop_profile_16']=='True'\n",
        "train['shop_profile_27'] = train['shop_profile_27']=='True'\n",
        "train['shop_profile_8'] = train['shop_profile_8'].replace({'unknown':np.nan})"
      ],
      "metadata": {
        "id": "mhLT8zSRTbHy"
      },
      "execution_count": null,
      "outputs": []
    },
    {
      "cell_type": "code",
      "source": [
        "# Check null percentage\n",
        "train[categorical_cols].isnull().mean().sort_values(ascending=False)"
      ],
      "metadata": {
        "colab": {
          "base_uri": "https://localhost:8080/"
        },
        "id": "mlHcLRrEiQ-I",
        "outputId": "7e8f6f7a-7e78-4c5e-f31a-0137f901fa9c"
      },
      "execution_count": null,
      "outputs": [
        {
          "output_type": "execute_result",
          "data": {
            "text/plain": [
              "shop_profile_8     0.097734\n",
              "shop_profile_6     0.000000\n",
              "shop_profile_7     0.000000\n",
              "shop_profile_16    0.000000\n",
              "shop_profile_27    0.000000\n",
              "ads_topup_9        0.000000\n",
              "dtype: float64"
            ]
          },
          "metadata": {},
          "execution_count": 12
        }
      ]
    },
    {
      "cell_type": "markdown",
      "source": [
        "### Feature Selection"
      ],
      "metadata": {
        "id": "MZlRnxZIl8aY"
      }
    },
    {
      "cell_type": "code",
      "source": [
        "# Threshold for removing correlated variables\n",
        "threshold = 0.9\n",
        "\n",
        "# Absolute value correlation matrix\n",
        "corr_matrix = train.drop(['ads_expense_1m_future','ads_expense_2m_future','ads_expense_3m_future'],axis=1).corr().abs()\n",
        "corr_matrix.head()"
      ],
      "metadata": {
        "colab": {
          "base_uri": "https://localhost:8080/",
          "height": 299
        },
        "id": "2-1h6sZ0bkQ8",
        "outputId": "2d70c0db-3e15-4052-e53a-62ce84afb713"
      },
      "execution_count": null,
      "outputs": [
        {
          "output_type": "execute_result",
          "data": {
            "text/plain": [
              "                shop_profile_1  shop_profile_2  shop_profile_3  \\\n",
              "shop_profile_1        1.000000        0.029435        0.012319   \n",
              "shop_profile_2        0.029435        1.000000        0.002699   \n",
              "shop_profile_3        0.012319        0.002699        1.000000   \n",
              "shop_profile_4        0.004704        0.004811        0.001481   \n",
              "shop_profile_5        0.055306        0.239302        0.003081   \n",
              "\n",
              "                shop_profile_4  shop_profile_5  shop_profile_6  \\\n",
              "shop_profile_1        0.004704        0.055306        0.013985   \n",
              "shop_profile_2        0.004811        0.239302        0.126504   \n",
              "shop_profile_3        0.001481        0.003081        0.007246   \n",
              "shop_profile_4        1.000000        0.011240        0.020755   \n",
              "shop_profile_5        0.011240        1.000000        0.232187   \n",
              "\n",
              "                shop_profile_7  shop_profile_9  shop_profile_10  \\\n",
              "shop_profile_1        0.057959        0.143909         0.079565   \n",
              "shop_profile_2        0.208910        0.155860         0.423030   \n",
              "shop_profile_3        0.000376        0.014389         0.014387   \n",
              "shop_profile_4        0.012281        0.045646         0.002213   \n",
              "shop_profile_5        0.880093        0.000430         0.488541   \n",
              "\n",
              "                shop_profile_11  ...  ads_topup_106  ads_topup_107  \\\n",
              "shop_profile_1         0.004774  ...       0.289438       0.016481   \n",
              "shop_profile_2         0.069698  ...       0.194194       0.061515   \n",
              "shop_profile_3         0.672912  ...       0.002647       0.009952   \n",
              "shop_profile_4         0.006169  ...       0.001146       0.002747   \n",
              "shop_profile_5         0.143460  ...       0.569051       0.222105   \n",
              "\n",
              "                ads_topup_108  ads_topup_109  ads_topup_110  ads_topup_111  \\\n",
              "shop_profile_1       0.006610       0.000621       0.101768       0.037315   \n",
              "shop_profile_2       0.087706       0.022435       0.030932       0.061205   \n",
              "shop_profile_3       0.003785       0.000286       0.005275       0.003646   \n",
              "shop_profile_4       0.016980       0.014609       0.053369       0.050388   \n",
              "shop_profile_5       0.222365       0.051381       0.087064       0.130715   \n",
              "\n",
              "                ads_topup_112  ads_topup_113  ads_topup_114  ads_topup_115  \n",
              "shop_profile_1       0.002584       0.029492       0.007550       0.003658  \n",
              "shop_profile_2       0.064904       0.135445       0.092321       0.076332  \n",
              "shop_profile_3       0.001154       0.012031       0.003350       0.002128  \n",
              "shop_profile_4       0.007723       0.005176       0.025730       0.015978  \n",
              "shop_profile_5       0.167025       0.467306       0.195551       0.198188  \n",
              "\n",
              "[5 rows x 496 columns]"
            ],
            "text/html": [
              "\n",
              "  <div id=\"df-2604391a-1bb8-4b18-b235-1c8d647aa944\">\n",
              "    <div class=\"colab-df-container\">\n",
              "      <div>\n",
              "<style scoped>\n",
              "    .dataframe tbody tr th:only-of-type {\n",
              "        vertical-align: middle;\n",
              "    }\n",
              "\n",
              "    .dataframe tbody tr th {\n",
              "        vertical-align: top;\n",
              "    }\n",
              "\n",
              "    .dataframe thead th {\n",
              "        text-align: right;\n",
              "    }\n",
              "</style>\n",
              "<table border=\"1\" class=\"dataframe\">\n",
              "  <thead>\n",
              "    <tr style=\"text-align: right;\">\n",
              "      <th></th>\n",
              "      <th>shop_profile_1</th>\n",
              "      <th>shop_profile_2</th>\n",
              "      <th>shop_profile_3</th>\n",
              "      <th>shop_profile_4</th>\n",
              "      <th>shop_profile_5</th>\n",
              "      <th>shop_profile_6</th>\n",
              "      <th>shop_profile_7</th>\n",
              "      <th>shop_profile_9</th>\n",
              "      <th>shop_profile_10</th>\n",
              "      <th>shop_profile_11</th>\n",
              "      <th>...</th>\n",
              "      <th>ads_topup_106</th>\n",
              "      <th>ads_topup_107</th>\n",
              "      <th>ads_topup_108</th>\n",
              "      <th>ads_topup_109</th>\n",
              "      <th>ads_topup_110</th>\n",
              "      <th>ads_topup_111</th>\n",
              "      <th>ads_topup_112</th>\n",
              "      <th>ads_topup_113</th>\n",
              "      <th>ads_topup_114</th>\n",
              "      <th>ads_topup_115</th>\n",
              "    </tr>\n",
              "  </thead>\n",
              "  <tbody>\n",
              "    <tr>\n",
              "      <th>shop_profile_1</th>\n",
              "      <td>1.000000</td>\n",
              "      <td>0.029435</td>\n",
              "      <td>0.012319</td>\n",
              "      <td>0.004704</td>\n",
              "      <td>0.055306</td>\n",
              "      <td>0.013985</td>\n",
              "      <td>0.057959</td>\n",
              "      <td>0.143909</td>\n",
              "      <td>0.079565</td>\n",
              "      <td>0.004774</td>\n",
              "      <td>...</td>\n",
              "      <td>0.289438</td>\n",
              "      <td>0.016481</td>\n",
              "      <td>0.006610</td>\n",
              "      <td>0.000621</td>\n",
              "      <td>0.101768</td>\n",
              "      <td>0.037315</td>\n",
              "      <td>0.002584</td>\n",
              "      <td>0.029492</td>\n",
              "      <td>0.007550</td>\n",
              "      <td>0.003658</td>\n",
              "    </tr>\n",
              "    <tr>\n",
              "      <th>shop_profile_2</th>\n",
              "      <td>0.029435</td>\n",
              "      <td>1.000000</td>\n",
              "      <td>0.002699</td>\n",
              "      <td>0.004811</td>\n",
              "      <td>0.239302</td>\n",
              "      <td>0.126504</td>\n",
              "      <td>0.208910</td>\n",
              "      <td>0.155860</td>\n",
              "      <td>0.423030</td>\n",
              "      <td>0.069698</td>\n",
              "      <td>...</td>\n",
              "      <td>0.194194</td>\n",
              "      <td>0.061515</td>\n",
              "      <td>0.087706</td>\n",
              "      <td>0.022435</td>\n",
              "      <td>0.030932</td>\n",
              "      <td>0.061205</td>\n",
              "      <td>0.064904</td>\n",
              "      <td>0.135445</td>\n",
              "      <td>0.092321</td>\n",
              "      <td>0.076332</td>\n",
              "    </tr>\n",
              "    <tr>\n",
              "      <th>shop_profile_3</th>\n",
              "      <td>0.012319</td>\n",
              "      <td>0.002699</td>\n",
              "      <td>1.000000</td>\n",
              "      <td>0.001481</td>\n",
              "      <td>0.003081</td>\n",
              "      <td>0.007246</td>\n",
              "      <td>0.000376</td>\n",
              "      <td>0.014389</td>\n",
              "      <td>0.014387</td>\n",
              "      <td>0.672912</td>\n",
              "      <td>...</td>\n",
              "      <td>0.002647</td>\n",
              "      <td>0.009952</td>\n",
              "      <td>0.003785</td>\n",
              "      <td>0.000286</td>\n",
              "      <td>0.005275</td>\n",
              "      <td>0.003646</td>\n",
              "      <td>0.001154</td>\n",
              "      <td>0.012031</td>\n",
              "      <td>0.003350</td>\n",
              "      <td>0.002128</td>\n",
              "    </tr>\n",
              "    <tr>\n",
              "      <th>shop_profile_4</th>\n",
              "      <td>0.004704</td>\n",
              "      <td>0.004811</td>\n",
              "      <td>0.001481</td>\n",
              "      <td>1.000000</td>\n",
              "      <td>0.011240</td>\n",
              "      <td>0.020755</td>\n",
              "      <td>0.012281</td>\n",
              "      <td>0.045646</td>\n",
              "      <td>0.002213</td>\n",
              "      <td>0.006169</td>\n",
              "      <td>...</td>\n",
              "      <td>0.001146</td>\n",
              "      <td>0.002747</td>\n",
              "      <td>0.016980</td>\n",
              "      <td>0.014609</td>\n",
              "      <td>0.053369</td>\n",
              "      <td>0.050388</td>\n",
              "      <td>0.007723</td>\n",
              "      <td>0.005176</td>\n",
              "      <td>0.025730</td>\n",
              "      <td>0.015978</td>\n",
              "    </tr>\n",
              "    <tr>\n",
              "      <th>shop_profile_5</th>\n",
              "      <td>0.055306</td>\n",
              "      <td>0.239302</td>\n",
              "      <td>0.003081</td>\n",
              "      <td>0.011240</td>\n",
              "      <td>1.000000</td>\n",
              "      <td>0.232187</td>\n",
              "      <td>0.880093</td>\n",
              "      <td>0.000430</td>\n",
              "      <td>0.488541</td>\n",
              "      <td>0.143460</td>\n",
              "      <td>...</td>\n",
              "      <td>0.569051</td>\n",
              "      <td>0.222105</td>\n",
              "      <td>0.222365</td>\n",
              "      <td>0.051381</td>\n",
              "      <td>0.087064</td>\n",
              "      <td>0.130715</td>\n",
              "      <td>0.167025</td>\n",
              "      <td>0.467306</td>\n",
              "      <td>0.195551</td>\n",
              "      <td>0.198188</td>\n",
              "    </tr>\n",
              "  </tbody>\n",
              "</table>\n",
              "<p>5 rows × 496 columns</p>\n",
              "</div>\n",
              "      <button class=\"colab-df-convert\" onclick=\"convertToInteractive('df-2604391a-1bb8-4b18-b235-1c8d647aa944')\"\n",
              "              title=\"Convert this dataframe to an interactive table.\"\n",
              "              style=\"display:none;\">\n",
              "        \n",
              "  <svg xmlns=\"http://www.w3.org/2000/svg\" height=\"24px\"viewBox=\"0 0 24 24\"\n",
              "       width=\"24px\">\n",
              "    <path d=\"M0 0h24v24H0V0z\" fill=\"none\"/>\n",
              "    <path d=\"M18.56 5.44l.94 2.06.94-2.06 2.06-.94-2.06-.94-.94-2.06-.94 2.06-2.06.94zm-11 1L8.5 8.5l.94-2.06 2.06-.94-2.06-.94L8.5 2.5l-.94 2.06-2.06.94zm10 10l.94 2.06.94-2.06 2.06-.94-2.06-.94-.94-2.06-.94 2.06-2.06.94z\"/><path d=\"M17.41 7.96l-1.37-1.37c-.4-.4-.92-.59-1.43-.59-.52 0-1.04.2-1.43.59L10.3 9.45l-7.72 7.72c-.78.78-.78 2.05 0 2.83L4 21.41c.39.39.9.59 1.41.59.51 0 1.02-.2 1.41-.59l7.78-7.78 2.81-2.81c.8-.78.8-2.07 0-2.86zM5.41 20L4 18.59l7.72-7.72 1.47 1.35L5.41 20z\"/>\n",
              "  </svg>\n",
              "      </button>\n",
              "      \n",
              "  <style>\n",
              "    .colab-df-container {\n",
              "      display:flex;\n",
              "      flex-wrap:wrap;\n",
              "      gap: 12px;\n",
              "    }\n",
              "\n",
              "    .colab-df-convert {\n",
              "      background-color: #E8F0FE;\n",
              "      border: none;\n",
              "      border-radius: 50%;\n",
              "      cursor: pointer;\n",
              "      display: none;\n",
              "      fill: #1967D2;\n",
              "      height: 32px;\n",
              "      padding: 0 0 0 0;\n",
              "      width: 32px;\n",
              "    }\n",
              "\n",
              "    .colab-df-convert:hover {\n",
              "      background-color: #E2EBFA;\n",
              "      box-shadow: 0px 1px 2px rgba(60, 64, 67, 0.3), 0px 1px 3px 1px rgba(60, 64, 67, 0.15);\n",
              "      fill: #174EA6;\n",
              "    }\n",
              "\n",
              "    [theme=dark] .colab-df-convert {\n",
              "      background-color: #3B4455;\n",
              "      fill: #D2E3FC;\n",
              "    }\n",
              "\n",
              "    [theme=dark] .colab-df-convert:hover {\n",
              "      background-color: #434B5C;\n",
              "      box-shadow: 0px 1px 3px 1px rgba(0, 0, 0, 0.15);\n",
              "      filter: drop-shadow(0px 1px 2px rgba(0, 0, 0, 0.3));\n",
              "      fill: #FFFFFF;\n",
              "    }\n",
              "  </style>\n",
              "\n",
              "      <script>\n",
              "        const buttonEl =\n",
              "          document.querySelector('#df-2604391a-1bb8-4b18-b235-1c8d647aa944 button.colab-df-convert');\n",
              "        buttonEl.style.display =\n",
              "          google.colab.kernel.accessAllowed ? 'block' : 'none';\n",
              "\n",
              "        async function convertToInteractive(key) {\n",
              "          const element = document.querySelector('#df-2604391a-1bb8-4b18-b235-1c8d647aa944');\n",
              "          const dataTable =\n",
              "            await google.colab.kernel.invokeFunction('convertToInteractive',\n",
              "                                                     [key], {});\n",
              "          if (!dataTable) return;\n",
              "\n",
              "          const docLinkHtml = 'Like what you see? Visit the ' +\n",
              "            '<a target=\"_blank\" href=https://colab.research.google.com/notebooks/data_table.ipynb>data table notebook</a>'\n",
              "            + ' to learn more about interactive tables.';\n",
              "          element.innerHTML = '';\n",
              "          dataTable['output_type'] = 'display_data';\n",
              "          await google.colab.output.renderOutput(dataTable, element);\n",
              "          const docLink = document.createElement('div');\n",
              "          docLink.innerHTML = docLinkHtml;\n",
              "          element.appendChild(docLink);\n",
              "        }\n",
              "      </script>\n",
              "    </div>\n",
              "  </div>\n",
              "  "
            ]
          },
          "metadata": {},
          "execution_count": 13
        }
      ]
    },
    {
      "cell_type": "code",
      "source": [
        "# Upper triangle of correlations\n",
        "upper = corr_matrix.where(np.triu(np.ones(corr_matrix.shape), k=1).astype(np.bool))\n",
        "to_drop = [column for column in upper.columns if any(upper[column] > threshold)]\n",
        "print('There are %d columns to remove.' % (len(to_drop)))\n",
        "train = train.drop(columns = to_drop,axis=1)"
      ],
      "metadata": {
        "colab": {
          "base_uri": "https://localhost:8080/"
        },
        "id": "WdfLSjHEopFd",
        "outputId": "0974a7da-f89c-4ad5-9075-455ece012233"
      },
      "execution_count": null,
      "outputs": [
        {
          "output_type": "stream",
          "name": "stderr",
          "text": [
            "<ipython-input-21-cabde9f66f3a>:2: DeprecationWarning: `np.bool` is a deprecated alias for the builtin `bool`. To silence this warning, use `bool` by itself. Doing this will not modify any behavior and is safe. If you specifically wanted the numpy scalar type, use `np.bool_` here.\n",
            "Deprecated in NumPy 1.20; for more details and guidance: https://numpy.org/devdocs/release/1.20.0-notes.html#deprecations\n",
            "  upper = corr_matrix.where(np.triu(np.ones(corr_matrix.shape), k=1).astype(np.bool))\n"
          ]
        },
        {
          "output_type": "stream",
          "name": "stdout",
          "text": [
            "There are 224 columns to remove.\n"
          ]
        }
      ]
    },
    {
      "cell_type": "code",
      "source": [
        "len(train.columns)"
      ],
      "metadata": {
        "colab": {
          "base_uri": "https://localhost:8080/"
        },
        "id": "KHzxvV2VqVNk",
        "outputId": "de54d41e-57e1-445d-d9dc-0bf773c008f6"
      },
      "execution_count": null,
      "outputs": [
        {
          "output_type": "execute_result",
          "data": {
            "text/plain": [
              "276"
            ]
          },
          "metadata": {},
          "execution_count": 23
        }
      ]
    },
    {
      "cell_type": "markdown",
      "source": [
        "#Train Model"
      ],
      "metadata": {
        "id": "pIwRn91BF-ry"
      }
    },
    {
      "cell_type": "code",
      "source": [
        "from sklearn.model_selection import train_test_split\n",
        "X, y = train.drop(['ads_expense_1m_future','ads_expense_2m_future','ads_expense_3m_future'],axis=1), train['ads_expense_1m_future']\n",
        "x_train, x_test, y_train, y_test = train_test_split(X,y, random_state=0,test_size=.2)"
      ],
      "metadata": {
        "id": "bdXhYql-azAV"
      },
      "execution_count": null,
      "outputs": []
    },
    {
      "cell_type": "code",
      "source": [
        "import numpy as np\n",
        "np.random.seed(0)\n",
        "import random\n",
        "random.seed(0)\n",
        "from sklearn.ensemble import ExtraTreesClassifier\n",
        "from sklearn.linear_model import LinearRegression, Ridge,Lasso\n",
        "from sklearn.neighbors import KNeighborsRegressor\n",
        "from sklearn.ensemble import GradientBoostingRegressor\n",
        "from sklearn.ensemble import ExtraTreesRegressor, RandomForestRegressor\n",
        "from sklearn.tree import DecisionTreeRegressor\n",
        "from sklearn.model_selection import GridSearchCV\n",
        "from sklearn.metrics import classification_report, mean_squared_error\n",
        "from sklearn.pipeline import Pipeline\n",
        "import time"
      ],
      "metadata": {
        "id": "fvi2qyC-edbF"
      },
      "execution_count": null,
      "outputs": []
    },
    {
      "cell_type": "code",
      "source": [
        "# Remove predicted columns from numeric columns\n",
        "numeric_cols=numeric_cols[:-3]"
      ],
      "metadata": {
        "id": "m5cJ0sAjjBcT"
      },
      "execution_count": null,
      "outputs": []
    },
    {
      "cell_type": "code",
      "source": [
        "from sklearn.preprocessing import FunctionTransformer\n",
        "from sklearn.pipeline import Pipeline, FeatureUnion\n",
        "from sklearn.impute import SimpleImputer\n",
        "from sklearn.preprocessing import StandardScaler\n",
        "from sklearn.metrics import explained_variance_score,mean_absolute_error,r2_score\n",
        "from time import time\n",
        "# deal with binary columns\n",
        "binary_pipeline = Pipeline([\n",
        "    ('select_categorical_features',FunctionTransformer(lambda df:df[categorical_cols])),\n",
        "    ('fillna',SimpleImputer(strategy='most_frequent'))\n",
        "])\n",
        "# deal with numerical columns\n",
        "numerical_pipeline = Pipeline([\n",
        "    ('select_numerical_features',FunctionTransformer(lambda df:df[numeric_cols])),\n",
        "    ('impute',SimpleImputer(strategy='constant',fill_value=999)),\n",
        "     ('scale', StandardScaler()),\n",
        "])\n",
        "\n",
        "simple_fe = FeatureUnion([\n",
        "    ('binary_pipeline',binary_pipeline),\n",
        "    ('numerical_pipeline',numerical_pipeline)\n",
        "])\n",
        "regressors = [\n",
        "        KNeighborsRegressor(),\n",
        "        GradientBoostingRegressor(),\n",
        "        KNeighborsRegressor(),\n",
        "        ExtraTreesRegressor(),\n",
        "        RandomForestRegressor(),\n",
        "        DecisionTreeRegressor(),\n",
        "        LinearRegression(),\n",
        "        Lasso(),\n",
        "        Ridge()]\n",
        "\n",
        "for model in regressors:\n",
        "    start = time()\n",
        "    parsed_x_train = simple_fe.fit_transform(x_train,y_train)\n",
        "    parsed_x_test = simple_fe.fit_transform(x_test,y_test)\n",
        "    model.fit(parsed_x_train, y_train)\n",
        "    train_time = time() - start\n",
        "    start = time()\n",
        "    y_pred = model.predict(parsed_x_test)\n",
        "    predict_time = time()-start\n",
        "    print(model)\n",
        "    print(\"\\tTraining time: %0.3fs\" % train_time)\n",
        "    print(\"\\tPrediction time: %0.3fs\" % predict_time)\n",
        "    print(\"\\tExplained variance:\", explained_variance_score(y_test, y_pred))\n",
        "    print(\"\\tMean absolute error:\", mean_absolute_error(y_test, y_pred))\n",
        "    print(\"\\tR2 score:\", r2_score(y_test, y_pred))\n",
        "    print()"
      ],
      "metadata": {
        "id": "Pl6TV1HOYqYU",
        "colab": {
          "base_uri": "https://localhost:8080/"
        },
        "outputId": "e0c87bed-21bc-47b7-a384-d24599a53e17"
      },
      "execution_count": null,
      "outputs": [
        {
          "output_type": "stream",
          "name": "stdout",
          "text": [
            "KNeighborsRegressor()\n",
            "\tTraining time: 6.104s\n",
            "\tPrediction time: 191.443s\n",
            "\tExplained variance: 0.658112120530549\n",
            "\tMean absolute error: 10.73100932219858\n",
            "\tR2 score: 0.6571890418285817\n",
            "\n",
            "GradientBoostingRegressor()\n",
            "\tTraining time: 413.403s\n",
            "\tPrediction time: 0.823s\n",
            "\tExplained variance: 0.8091926684409598\n",
            "\tMean absolute error: 8.38592879762168\n",
            "\tR2 score: 0.8091534132377277\n",
            "\n",
            "KNeighborsRegressor()\n",
            "\tTraining time: 7.336s\n",
            "\tPrediction time: 190.108s\n",
            "\tExplained variance: 0.658112120530549\n",
            "\tMean absolute error: 10.73100932219858\n",
            "\tR2 score: 0.6571890418285817\n",
            "\n",
            "ExtraTreesRegressor()\n",
            "\tTraining time: 897.689s\n",
            "\tPrediction time: 1.913s\n",
            "\tExplained variance: 0.8091138548339784\n",
            "\tMean absolute error: 8.989786505203513\n",
            "\tR2 score: 0.8091104341286488\n",
            "\n",
            "RandomForestRegressor()\n",
            "\tTraining time: 2171.275s\n",
            "\tPrediction time: 2.018s\n",
            "\tExplained variance: 0.8093290459327699\n",
            "\tMean absolute error: 13.060350018610809\n",
            "\tR2 score: 0.8086455047845943\n",
            "\n",
            "DecisionTreeRegressor()\n",
            "\tTraining time: 45.212s\n",
            "\tPrediction time: 0.340s\n",
            "\tExplained variance: 0.7683551721047275\n",
            "\tMean absolute error: 13.159265789003891\n",
            "\tR2 score: 0.7682427939173777\n",
            "\n",
            "LinearRegression()\n",
            "\tTraining time: 9.503s\n",
            "\tPrediction time: 0.375s\n",
            "\tExplained variance: -8.54743320702651e+18\n",
            "\tMean absolute error: 121046340437.83168\n",
            "\tR2 score: -8.547433207026512e+18\n",
            "\n",
            "Lasso()\n",
            "\tTraining time: 15.812s\n",
            "\tPrediction time: 0.379s\n",
            "\tExplained variance: 0.8411098505871071\n",
            "\tMean absolute error: 8.745000371981138\n",
            "\tR2 score: 0.8411007376302649\n",
            "\n",
            "Ridge()\n",
            "\tTraining time: 5.905s\n",
            "\tPrediction time: 0.370s\n",
            "\tExplained variance: 0.8293728606119095\n",
            "\tMean absolute error: 11.73924910377529\n",
            "\tR2 score: 0.8293638412493374\n",
            "\n"
          ]
        }
      ]
    },
    {
      "cell_type": "code",
      "source": [],
      "metadata": {
        "id": "a268xQEZh2eY"
      },
      "execution_count": null,
      "outputs": []
    }
  ],
  "metadata": {
    "colab": {
      "provenance": [],
      "include_colab_link": true
    },
    "kernelspec": {
      "display_name": "Python 3",
      "name": "python3"
    },
    "language_info": {
      "name": "python"
    }
  },
  "nbformat": 4,
  "nbformat_minor": 0
}